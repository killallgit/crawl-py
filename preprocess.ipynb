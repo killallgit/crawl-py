{
 "cells": [
  {
   "cell_type": "code",
   "execution_count": 2,
   "metadata": {},
   "outputs": [],
   "source": [
    "source_dir = '/Volumes/data/commercials'\n",
    "target_dir = '/Volumes/data/dataset'\n",
    "target_data_dir = f\"{target_dir}/data\"\n",
    "metadata_file = f\"{target_dir}/metadata.jsonl\""
   ]
  },
  {
   "cell_type": "code",
   "execution_count": 1,
   "metadata": {},
   "outputs": [
    {
     "name": "stdout",
     "output_type": "stream",
     "text": [
      "Files moved and metadata updated successfully.\n"
     ]
    }
   ],
   "source": [
    "import os\n",
    "import uuid\n",
    "import json\n",
    "import shutil\n",
    "\n",
    "if not os.path.exists(target_data_dir):\n",
    "    os.makedirs(target_data_dir)\n",
    "\n",
    "if not os.path.exists('./dataset'):\n",
    "    os.makedirs('./dataset')\n",
    "\n",
    "wav_files = [f for f in os.listdir(source_dir) if f.endswith('.wav')]\n",
    "\n",
    "for file in wav_files:\n",
    "\n",
    "    unique_hash = uuid.uuid4().hex[:8]\n",
    "    new_filename = f\"{unique_hash}.wav\"\n",
    "    new_filepath = os.path.join(target_data_dir, new_filename)\n",
    "\n",
    "    shutil.move(os.path.join(source_dir, file), new_filepath)\n",
    "\n",
    "    metadata = {\n",
    "        \"file_name\": f\"./dataset/data/{new_filename}\",\n",
    "        \"text\": \"\",\n",
    "        \"class_labels\": [\"commercial\"]\n",
    "    }\n",
    "    \n",
    "    with open(metadata_file, 'a') as f:\n",
    "        json.dump(metadata, f)\n",
    "        f.write('\\n')\n",
    "\n",
    "print(\"Files moved and metadata updated successfully.\")"
   ]
  }
 ],
 "metadata": {
  "kernelspec": {
   "display_name": ".venv",
   "language": "python",
   "name": "python3"
  },
  "language_info": {
   "codemirror_mode": {
    "name": "ipython",
    "version": 3
   },
   "file_extension": ".py",
   "mimetype": "text/x-python",
   "name": "python",
   "nbconvert_exporter": "python",
   "pygments_lexer": "ipython3",
   "version": "3.12.3"
  }
 },
 "nbformat": 4,
 "nbformat_minor": 2
}
